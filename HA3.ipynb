{
 "cells": [
  {
   "cell_type": "code",
   "execution_count": 2,
   "metadata": {},
   "outputs": [
    {
     "data": {
      "application/vnd.jupyter.widget-view+json": {
       "model_id": "8565c1c92e2f478fa496838f47abf63b",
       "version_major": 2,
       "version_minor": 0
      },
      "text/plain": [
       "HBox(children=(IntProgress(value=1, bar_style='info', max=1), HTML(value='')))"
      ]
     },
     "metadata": {},
     "output_type": "display_data"
    },
    {
     "name": "stdout",
     "output_type": "stream",
     "text": [
      "\n"
     ]
    }
   ],
   "source": [
    "import numpy as np\n",
    "import matplotlib.pylab as plt\n",
    "from tqdm import tqdm\n",
    "plt.style.use('ggplot')\n",
    "import time\n",
    "from tqdm import tqdm_notebook as tqdm\n",
    "from tqdm._tqdm_notebook import tqdm_notebook\n",
    "tqdm_notebook().pandas(desc=\"progress\")\n",
    "from mpl_toolkits.mplot3d import Axes3D"
   ]
  },
  {
   "cell_type": "code",
   "execution_count": null,
   "metadata": {},
   "outputs": [],
   "source": [
    "##############################\n",
    "##############################\n",
    "##############################\n",
    "########## PROBLEM2 ##########\n",
    "##############################\n",
    "##############################\n",
    "##############################"
   ]
  },
  {
   "cell_type": "code",
   "execution_count": 88,
   "metadata": {},
   "outputs": [
    {
     "data": {
      "text/plain": [
       "0.7291902206001455"
      ]
     },
     "execution_count": 88,
     "metadata": {},
     "output_type": "execute_result"
    }
   ],
   "source": [
    "c_max"
   ]
  },
  {
   "cell_type": "code",
   "execution_count": 201,
   "metadata": {},
   "outputs": [
    {
     "name": "stdout",
     "output_type": "stream",
     "text": [
      "CPU times: user 169 µs, sys: 23 µs, total: 192 µs\n",
      "Wall time: 177 µs\n"
     ]
    }
   ],
   "source": [
    "%%time\n",
    "# algorithm parameters\n",
    "\n",
    "N = 300\n",
    "lb = 1e-6\n",
    "error = 1\n",
    "tol = 1e-6\n",
    "max_iter = 1000\n",
    "n_iter = 0\n",
    "step = 0.5\n",
    "nplot = 100\n",
    "\n",
    "\n",
    "# model parameters\n",
    "\n",
    "labour = True\n",
    "alpha = 1/3\n",
    "beta = 0.96\n",
    "theta = 1\n",
    "delta = 1\n",
    "\n",
    "k_ss = ((theta*beta*alpha)**(1/(1-alpha)))*((1-alpha)/(2-alpha - beta*alpha))\n",
    "l_ss = (1-alpha)/(2-alpha -beta*alpha)\n",
    "\n",
    "c_ss = theta*((k_ss)**(alpha))*((l_ss)**(1-alpha))- k_ss\n",
    "\n",
    "k_min = 0.01\n",
    "l_min = 0.01\n",
    "# c_min = 0.01\n",
    "k_max = k_ss**(1/2) +0.3\n",
    "l_max = l_ss**(1/2) + 0.2\n",
    "# c_max = c_ss**(1/2) + 0.2\n",
    "\n",
    "\n",
    "# model technology\n",
    "\n",
    "def technology(k, l): # f(k)\n",
    "    if labour == False:\n",
    "        y = theta*k**(alpha)\n",
    "        \n",
    "    else:\n",
    "        y = (theta*(k**(alpha)))*(l**(1-alpha))\n",
    "        \n",
    "    return y\n",
    "\n",
    "\n",
    "# placeholders\n",
    "k_grid = np.linspace(k_min,k_max, N)\n",
    "\n",
    "l_grid = np.linspace(l_min,l_max, N)\n",
    "\n",
    "c_grid = c_ss*np.ones((N,1))\n",
    "\n",
    "c_new = np.zeros((N,1))\n",
    "\n",
    "# Algorithm \n",
    "# Step 1: \n",
    "    # Define a vector K = [k^1,k^2,...,k^n] - range of capital, selected using steady state knowledge\n",
    "    # And V_0 = [v^1_0,v^2_0,...,v^n_0] - guesses of values of function, usually zeros or constants\n",
    "    \n",
    "# Step 2: \n",
    "    # next define v^i_1= max_j{U(f[k_i] + (1-б)k^i - k^j) + Bv^j_0}\n",
    "    \n",
    "# While |v_n - v_(n-1)|_oo > epsilon Repeat Step 2 \n",
    "# Unless number of iterations reaches an upper bound\n",
    "\n",
    "\n"
   ]
  },
  {
   "cell_type": "code",
   "execution_count": 202,
   "metadata": {},
   "outputs": [
    {
     "data": {
      "text/plain": [
       "0.1904287569136049"
      ]
     },
     "execution_count": 202,
     "metadata": {},
     "output_type": "execute_result"
    }
   ],
   "source": [
    "c_ss"
   ]
  },
  {
   "cell_type": "code",
   "execution_count": 203,
   "metadata": {},
   "outputs": [
    {
     "name": "stdout",
     "output_type": "stream",
     "text": [
      "CPU times: user 1.86 s, sys: 394 ms, total: 2.25 s\n",
      "Wall time: 442 ms\n"
     ]
    }
   ],
   "source": [
    "%%time\n",
    "# CPU times: user 2.31 s\n",
    "##############################\n",
    "##############################\n",
    "##############################\n",
    "##### Initializing stuff #####\n",
    "##############################\n",
    "##############################\n",
    "##############################\n",
    " \n",
    "# memory heavy since 300**3 is a lot of data\n",
    "\n",
    "V = np.zeros((N,1)) # We start by guessing V(k) = 0 for all k\n",
    "\n",
    "V_inter = np.zeros((N,N,N)) # This will be used to store V in an intermediate step N*N for k,l and N for k'\n",
    "\n",
    "G_grid = np.zeros((N,N, 1)) # This will be used to store the policy function\n",
    "\n",
    "Y_grid = technology(np.broadcast_to(k_grid, (N,N)), np.transpose(np.broadcast_to(l_grid, (N, N) )))  \\\n",
    "                                + (1-delta)*np.broadcast_to(k_grid, (N,N)) # This constructs f(k,l) + (1-delta)k\n",
    "\n",
    "L_grid = (np.maximum( np.ones((N,N)) - np.transpose(np.broadcast_to(l_grid, (N, N) )),\n",
    "                                 lb*np.ones( (N,N))))                      # This constructs 1-l\n",
    " \n",
    "U_grid = np.log(np.maximum( np.broadcast_to(Y_grid , (N,N,N)) - np.transpose(np.broadcast_to(k_grid, (N, N, N))), \n",
    "                           lb*np.ones( (N, N,N)) )) + np.broadcast_to(np.log(L_grid), (N,N,N))\n",
    "\n",
    "# dimensions \n",
    "                                                            # This constructs u(c(k,k',l)) + u(l) \n",
    "                                                                          \n",
    "                                                            \n",
    "\n",
    "\n",
    "                         "
   ]
  },
  {
   "cell_type": "code",
   "execution_count": 207,
   "metadata": {},
   "outputs": [
    {
     "data": {
      "application/vnd.jupyter.widget-view+json": {
       "model_id": "21f27e6d00b34284a2f0e53fc97b9beb",
       "version_major": 2,
       "version_minor": 0
      },
      "text/plain": [
       "HBox(children=(IntProgress(value=0, max=139), HTML(value='')))"
      ]
     },
     "metadata": {},
     "output_type": "display_data"
    },
    {
     "ename": "KeyboardInterrupt",
     "evalue": "",
     "output_type": "error",
     "traceback": [
      "\u001b[0;31m---------------------------------------------------------------------------\u001b[0m",
      "\u001b[0;31mKeyboardInterrupt\u001b[0m                         Traceback (most recent call last)",
      "\u001b[0;32m<timed exec>\u001b[0m in \u001b[0;36m<module>\u001b[0;34m\u001b[0m\n",
      "\u001b[0;31mKeyboardInterrupt\u001b[0m: "
     ]
    }
   ],
   "source": [
    "%%time\n",
    "# Wall time: 2min 15s For Loop\n",
    "# Wall time: 1min 8s Vectorized\n",
    "##############################\n",
    "##############################\n",
    "##############################\n",
    "######## Optimization ########\n",
    "##############################\n",
    "##############################\n",
    "##############################\n",
    "\n",
    "\n",
    "# VALUE FUNCTION\n",
    "\n",
    "pbar = tqdm(total = n_iter+1)\n",
    "while (error > tol) & (n_iter < max_iter):\n",
    "    \n",
    "    n_iter += 1\n",
    "    \n",
    "# The next line chooses the k(i),l(j) which maximises the Bellman eq for each\n",
    "# k(r). This defines a new V.\n",
    "    \n",
    "    V_inter = U_grid + beta*(np.transpose(np.broadcast_to(V, (N,N,N))))\n",
    "                                        \n",
    "# same using for loop\n",
    "#     V_new = np.zeros(N)\n",
    "#     for i in range(N):\n",
    "#         V_new[i] = np.max(V_inter[:,:,i])\n",
    "        \n",
    "    \n",
    "    V_new = np.amax(V_inter, axis = (0, 1)) # maximizes over first 2 axis which represent l,k'\n",
    "     \n",
    "    error = np.max(np.abs(V - V_new))\n",
    "\n",
    "    V = V_new\n",
    "    \n",
    "    pbar.update(1)\n",
    "pbar.close()\n",
    "# Policy function gives indexes of policy variables for each k\n",
    "\n",
    "Policy_indexs = []\n",
    "for i in range(N):\n",
    "    tmp = V_inter[:,:,i]\n",
    "    tmp_ind = np.argmax(tmp)\n",
    "    Policy_indexs.append(np.unravel_index(tmp_ind, (300,300)))\n",
    "\n",
    "    \n"
   ]
  },
  {
   "cell_type": "code",
   "execution_count": 195,
   "metadata": {},
   "outputs": [
    {
     "data": {
      "application/vnd.jupyter.widget-view+json": {
       "model_id": "2a97165b5f6a455baff76818d1da2e08",
       "version_major": 2,
       "version_minor": 0
      },
      "text/plain": [
       "HBox(children=(IntProgress(value=0, max=1), HTML(value='')))"
      ]
     },
     "metadata": {},
     "output_type": "display_data"
    },
    {
     "name": "stdout",
     "output_type": "stream",
     "text": [
      "CPU times: user 3.8 s, sys: 20.6 ms, total: 3.82 s\n",
      "Wall time: 3.81 s\n"
     ]
    }
   ],
   "source": [
    "%%time\n",
    "# Policy Function iteration\n",
    "error = 1\n",
    "n_iter = 0\n",
    "\n",
    "# we know that l is constant and can simplify the analysis slightly\n",
    "l = l_ss\n",
    "pbar = tqdm(total = n_iter+1)\n",
    "while (error > tol) & (n_iter < max_iter):\n",
    "    \n",
    "    n_iter += 1\n",
    "\n",
    "    for i in range(N):\n",
    "        \n",
    "        k = k_grid[i]\n",
    "        \n",
    "        tmp_k = [theta*(k**(alpha))*((l)**(1-alpha))+(1-delta)*k-c_grid[i]][0][0]\n",
    "\n",
    "        k_prime = k_grid[np.abs(k_grid-tmp_k).argmin()]\n",
    "\n",
    "        z = np.where(k_grid == k_prime) \n",
    "\n",
    "        c_prime=c_grid[z]\n",
    "\n",
    "        c_new[i]=c_prime/ (beta*(((l)**(1-alpha))*theta*alpha*k_prime**(alpha-1)+1-delta)) # Euler\n",
    "        c_new[i]=c_new[i]\n",
    "\n",
    "    error = np.max(np.abs(c_new - c_grid))\n",
    "\n",
    "    c_grid = (1-step)*c_grid+ step*c_new\n",
    "    pbar.update(1)\n",
    "pbar.close()\n",
    "\n",
    "# result\n",
    "# error\n",
    "# 0.011754884047296965"
   ]
  },
  {
   "cell_type": "code",
   "execution_count": 208,
   "metadata": {},
   "outputs": [
    {
     "data": {
      "image/png": "[encoded data removed]",
      "text/plain": [
       "<Figure size 432x288 with 1 Axes>"
      ]
     },
     "metadata": {
      "needs_background": "light"
     },
     "output_type": "display_data"
    }
   ],
   "source": [
    "# Results\n",
    "A = np.log((1-beta*alpha)/(2-alpha - beta*alpha)) + np.log(theta*(1-beta*alpha)*((1-alpha)/(2-alpha - beta*alpha))**(1-alpha)) \n",
    "B = ((beta*alpha)/(1-beta*alpha))*np.log(theta*beta*alpha*((1-alpha)/(2-alpha - beta*alpha))**(1-alpha)) \n",
    "x = (A+B)/(1-beta) + (alpha/(1-alpha*beta))*np.log(k_grid)\n",
    "\n",
    "plt.plot(k_grid, V_new + 0.01*np.random.normal( size =N), label='Quant')\n",
    "plt.plot(k_grid, x, label='Real')\n",
    "plt.title('Value Function Iteration')\n",
    "plt.xlabel('K')\n",
    "plt.ylabel('V(K)')\n",
    "plt.legend()\n",
    "plt.show()"
   ]
  },
  {
   "cell_type": "code",
   "execution_count": 209,
   "metadata": {},
   "outputs": [
    {
     "data": {
      "text/plain": [
       "0.4950495049504951"
      ]
     },
     "execution_count": 209,
     "metadata": {},
     "output_type": "execute_result"
    }
   ],
   "source": [
    "l_ss"
   ]
  },
  {
   "cell_type": "code",
   "execution_count": 642,
   "metadata": {},
   "outputs": [
    {
     "name": "stdout",
     "output_type": "stream",
     "text": [
      "CPU times: user 210 µs, sys: 23 µs, total: 233 µs\n",
      "Wall time: 219 µs\n"
     ]
    }
   ],
   "source": [
    "\n",
    "%%time\n",
    "##############################\n",
    "##############################\n",
    "##############################\n",
    "########## PROBLEM3 ##########\n",
    "##############################\n",
    "##############################\n",
    "##############################\n",
    "\n",
    "# The problem was not performing well without -1 in utility\n",
    "\n",
    "# algorithm parameters\n",
    "\n",
    "N = 60\n",
    "lb = 1e-6\n",
    "error = 1\n",
    "tol = 1e-3\n",
    "max_iter = 1000\n",
    "n_iter = 0\n",
    "step = 1\n",
    "nplot = 100\n",
    "\n",
    "\n",
    "# model parameters\n",
    "\n",
    "labour = True\n",
    "alpha = 0.36\n",
    "mu = 0.5\n",
    "beta = 0.95\n",
    "theta = 1\n",
    "delta_1 = 0.05\n",
    "delta_2 = 0.08\n",
    "sigma = 2\n",
    "\n",
    "k_ss = 3.5\n",
    "l_ss = (1-alpha)/(2-alpha -beta*alpha) # arbitrarily chosen, true lst state in the notes\n",
    "\n",
    "k_min = 1.5\n",
    "l_min = 0.1\n",
    "k_max = k_ss +10.3\n",
    "l_max = l_ss**(1/2) + 0.28\n",
    "\n",
    "\n",
    "# placeholders\n",
    "\n",
    "k_grid = np.linspace(k_min,k_max, N)\n",
    "\n",
    "\n",
    "\n",
    "l1_grid = np.linspace(l_min,l_max, N)\n",
    "l2_grid = 1 - np.linspace(l_min,l_max, N)\n",
    "\n"
   ]
  },
  {
   "cell_type": "code",
   "execution_count": 643,
   "metadata": {},
   "outputs": [
    {
     "data": {
      "text/plain": [
       "0.9821867670200858"
      ]
     },
     "execution_count": 643,
     "metadata": {},
     "output_type": "execute_result"
    }
   ],
   "source": [
    "l_max"
   ]
  },
  {
   "cell_type": "code",
   "execution_count": 644,
   "metadata": {},
   "outputs": [
    {
     "name": "stdout",
     "output_type": "stream",
     "text": [
      "CPU times: user 1 ms, sys: 594 µs, total: 1.6 ms\n",
      "Wall time: 850 µs\n"
     ]
    }
   ],
   "source": [
    "%%time\n",
    "# CPU times: user 2.31 s\n",
    "##############################\n",
    "##############################\n",
    "##############################\n",
    "##### Initializing stuff #####\n",
    "##############################\n",
    "##############################\n",
    "##############################\n",
    " \n",
    "# memory heavy since 300**3 is a lot of data\n",
    "\n",
    "V = np.ones((N,N)) # We start by guessing V(k) = 0 for all k\n",
    "\n",
    "# V_inter = np.zeros((N,N,N,N,N)) # This will be used to store V in an intermediate step N*N for k,l and N for k'\n",
    "\n",
    "\n",
    "\n",
    "G_grid = np.zeros((N,N)) # This will be used to store the policy function\n",
    "\n",
    "\n",
    "Y1_grid = theta*((np.broadcast_to(k_grid, (N,N)))**(alpha))*(np.transpose(\\\n",
    "                                                                          np.broadcast_to(l1_grid, (N, N) )))**(1-alpha)+\\\n",
    "                                                                            (1-delta_1)*np.broadcast_to(k_grid, (N,N))\n",
    "Y2_grid = theta*((np.broadcast_to(k_grid, (N,N)))**(mu))*(np.transpose(\\\n",
    "                                                                          np.broadcast_to(l2_grid, (N, N) )))**(1-mu)+\\\n",
    "                                                                            (1-delta_2)*np.broadcast_to(k_grid, (N,N))\n",
    "\n",
    "# U1_grid = (1/(1-sigma))*(np.maximum(np.broadcast_to(Y1_grid , (N,N,N)) -\\\n",
    "#                         np.transpose(np.broadcast_to(k_grid, (N, N, N))), lb*np.ones( (N, N,N))))**(1-sigma)\n",
    "# # dimensions \n",
    "# # [policy capital, l1 ,given capital]\n",
    "\n",
    "\n",
    "\n",
    "# U2_grid = (1/(1-sigma))*(np.maximum(np.broadcast_to(Y2_grid , (N,N,N)) -\\\n",
    "#                         np.transpose(np.broadcast_to(k_grid, (N, N, N))),lb*np.ones( (N, N,N))))**(1-sigma)\n",
    "# # dimensions \n",
    "# [policy capital, l2 ,given capital]\n",
    "\n",
    "# U_total_grid = np.zeros((N,N,N,N,N))\n",
    "\n",
    "# for i in range(N):\n",
    "#     U_total_grid[i,:,:,:,:] = U1_grid[:,i,:, None, None] + np.transpose(U2_grid[:,i,:])\n",
    "\n",
    "# dimensions \n",
    "# [l, policy cap2, given cap2, policy cap1, given cap1]\n",
    "    \n",
    "    "
   ]
  },
  {
   "cell_type": "code",
   "execution_count": 645,
   "metadata": {},
   "outputs": [
    {
     "data": {
      "application/vnd.jupyter.widget-view+json": {
       "model_id": "da3f4f56586a42e0809a8bd6dd4a6874",
       "version_major": 2,
       "version_minor": 0
      },
      "text/plain": [
       "HBox(children=(IntProgress(value=0, max=1), HTML(value='')))"
      ]
     },
     "metadata": {},
     "output_type": "display_data"
    },
    {
     "name": "stdout",
     "output_type": "stream",
     "text": [
      "CPU times: user 53min 45s, sys: 26.9 s, total: 54min 12s\n",
      "Wall time: 6min 46s\n"
     ]
    }
   ],
   "source": [
    "%%time\n",
    "\n",
    "# Wall time: ~5min for 150 iters\n",
    "##############################\n",
    "##############################\n",
    "##############################\n",
    "######## Optimization ########\n",
    "##############################\n",
    "##############################\n",
    "##############################\n",
    "k_1_0,k_2_0,l_1 = (4, 5 ,0.25)\n",
    "\n",
    "\n",
    "\n",
    "k1_path = []\n",
    "k2_path = []\n",
    "l1_path = []\n",
    "\n",
    "start = -1000\n",
    "\n",
    "pbar = tqdm(total = n_iter+1)\n",
    "while (error > tol) & (n_iter < max_iter):\n",
    "    k1_path.append(k_1_0)\n",
    "    k2_path.append(k_2_0)\n",
    "    l1_path.append(l_1)\n",
    "    \n",
    "    k_1_0 = k_grid[np.abs(k_grid-k_1_0).argmin()]\n",
    "    k_2_0 = k_grid[np.abs(k_grid-k_1_0).argmin()]\n",
    "    l_1 = l_grid[np.abs(l_grid-l_1).argmin()]\n",
    "    z1 = np.where(k_grid == k_1_0) \n",
    "    z2 = np.where(k_grid == k_2_0) \n",
    "    \n",
    "    \n",
    "    for i in range(N):\n",
    "        for j in range(N):\n",
    "    \n",
    "            tmp = np.max(((1/(1-sigma))*(np.maximum(Y1_grid[z1] - k1, lb*np.ones( (1, N))))**(1-sigma)) +\\\n",
    "                    ((1/(1-sigma))*(np.maximum(Y2_grid[z2] - k2, lb*np.ones( (1, N))))**(1-sigma)) + \\\n",
    "                    beta*V[i,j], axis =1)\n",
    "        \n",
    "            if tmp>start:\n",
    "                start = tmp\n",
    "                k_1_0 = i\n",
    "                k_2_0 = j\n",
    "                l_1 =np.argmax(((1/(1-sigma))*(np.maximum(Y1_grid[z1] - k1, lb*np.ones( (1, N))))**(1-sigma)) +\\\n",
    "                    ((1/(1-sigma))*(np.maximum(Y2_grid[z2] - k2, lb*np.ones( (1, N))))**(1-sigma)) + \\\n",
    "                    beta*V[i,j], axis =1)\n",
    "    \n",
    "    \n",
    "    \n",
    "    \n",
    "    n_iter += 1\n",
    "    \n",
    "    u_g = (-1000)*np.ones((N,N,N))\n",
    "    \n",
    "    for i in range(N):\n",
    "        for j in range(N):\n",
    "            k1 = k_grid[i] # next period cap1\n",
    "            k2 = k_grid[j] # next period cap2\n",
    "            \n",
    "            u =((1/(1-sigma))*((np.maximum(Y1_grid - k1, lb*np.ones( (N, N))))**(1-sigma) -1 ))[None,:,:] +\\\n",
    "            ((1/(1-sigma))*((np.maximum(Y2_grid - k2, lb*np.ones( (N, N))))**(1-sigma) - 1))[:,None,:] + \\\n",
    "            beta*V[j,i]\n",
    "            u_g = np.maximum(u,u_g)\n",
    "            \n",
    "            \n",
    "    V_new = np.max(u_g, axis=2)\n",
    "            \n",
    "    \n",
    "    error = np.max(np.abs(V - V_new))\n",
    "\n",
    "    \n",
    "    \n",
    "    V = (1-step)*V+step*V_new\n",
    "    \n",
    "    pbar.update(1)\n",
    "pbar.close()"
   ]
  },
  {
   "cell_type": "code",
   "execution_count": null,
   "metadata": {},
   "outputs": [],
   "source": []
  },
  {
   "cell_type": "code",
   "execution_count": 365,
   "metadata": {},
   "outputs": [
    {
     "data": {
      "text/plain": [
       "array([[-25.73353301, -24.8927284 , -24.1532183 , ..., -15.47068643,\n",
       "        -15.53377689, -15.71892934],\n",
       "       [-25.73353301, -24.8927284 , -24.1532183 , ..., -15.47068643,\n",
       "        -15.53377689, -15.71892934],\n",
       "       [-25.73353301, -24.8927284 , -24.1532183 , ..., -15.47068643,\n",
       "        -15.53377689, -15.71892934],\n",
       "       ...,\n",
       "       [-25.73353301, -24.8927284 , -24.1532183 , ..., -15.47068643,\n",
       "        -15.53377689, -15.71892934],\n",
       "       [-25.73353301, -24.8927284 , -24.1532183 , ..., -15.47068643,\n",
       "        -15.53377689, -15.71892934],\n",
       "       [-25.73353301, -24.8927284 , -24.1532183 , ..., -15.47068643,\n",
       "        -15.53377689, -15.71892934]])"
      ]
     },
     "execution_count": 365,
     "metadata": {},
     "output_type": "execute_result"
    }
   ],
   "source": [
    "# Plots\n",
    "# plt.plot(k1_path)\n",
    "# plt.title('Capital 1 Path')\n",
    "# plt.xlabel('T')\n",
    "# plt.ylabel('K1')\n",
    "# plt.show()\n",
    "# plt.plot(k2_path)\n",
    "# plt.title('Capital 2 Path')\n",
    "# plt.xlabel('T')\n",
    "# plt.ylabel('K2')\n",
    "# plt.show()\n",
    "# plt.plot(l1_path, label='Real')\n",
    "# plt.title('Labor Path')\n",
    "# plt.xlabel('T')\n",
    "# plt.ylabel('L1')\n",
    "# plt.legend()\n",
    "# plt.show()"
   ]
  },
  {
   "cell_type": "code",
   "execution_count": 907,
   "metadata": {},
   "outputs": [
    {
     "ename": "IndexError",
     "evalue": "index 60 is out of bounds for axis 1 with size 60",
     "output_type": "error",
     "traceback": [
      "\u001b[0;31m---------------------------------------------------------------------------\u001b[0m",
      "\u001b[0;31mIndexError\u001b[0m                                Traceback (most recent call last)",
      "\u001b[0;32m<ipython-input-907-6c164b6781a0>\u001b[0m in \u001b[0;36m<module>\u001b[0;34m\u001b[0m\n\u001b[1;32m      6\u001b[0m \u001b[0;32mfor\u001b[0m \u001b[0mi\u001b[0m \u001b[0;32min\u001b[0m \u001b[0mrange\u001b[0m\u001b[0;34m(\u001b[0m\u001b[0mN\u001b[0m\u001b[0;34m)\u001b[0m\u001b[0;34m:\u001b[0m\u001b[0;34m\u001b[0m\u001b[0;34m\u001b[0m\u001b[0m\n\u001b[1;32m      7\u001b[0m     \u001b[0;32mfor\u001b[0m \u001b[0mj\u001b[0m \u001b[0;32min\u001b[0m \u001b[0mrange\u001b[0m\u001b[0;34m(\u001b[0m\u001b[0mN\u001b[0m\u001b[0;34m)\u001b[0m\u001b[0;34m:\u001b[0m\u001b[0;34m\u001b[0m\u001b[0;34m\u001b[0m\u001b[0m\n\u001b[0;32m----> 8\u001b[0;31m         \u001b[0mZ\u001b[0m\u001b[0;34m[\u001b[0m\u001b[0mi\u001b[0m\u001b[0;34m,\u001b[0m\u001b[0mj\u001b[0m\u001b[0;34m]\u001b[0m \u001b[0;34m=\u001b[0m \u001b[0mV_new\u001b[0m\u001b[0;34m[\u001b[0m\u001b[0mi\u001b[0m\u001b[0;34m,\u001b[0m\u001b[0mj\u001b[0m\u001b[0;34m]\u001b[0m\u001b[0;34m\u001b[0m\u001b[0;34m\u001b[0m\u001b[0m\n\u001b[0m\u001b[1;32m      9\u001b[0m \u001b[0;31m#             V_new[i,j] = np.max(V_inter[:,j,:,i,:])\u001b[0m\u001b[0;34m\u001b[0m\u001b[0;34m\u001b[0m\u001b[0;34m\u001b[0m\u001b[0m\n\u001b[1;32m     10\u001b[0m \u001b[0mfig\u001b[0m \u001b[0;34m=\u001b[0m \u001b[0mplt\u001b[0m\u001b[0;34m.\u001b[0m\u001b[0mfigure\u001b[0m\u001b[0;34m(\u001b[0m\u001b[0mfigsize\u001b[0m\u001b[0;34m=\u001b[0m\u001b[0;34m(\u001b[0m\u001b[0;36m20\u001b[0m\u001b[0;34m,\u001b[0m\u001b[0;36m10\u001b[0m\u001b[0;34m)\u001b[0m\u001b[0;34m)\u001b[0m\u001b[0;34m\u001b[0m\u001b[0;34m\u001b[0m\u001b[0m\n",
      "\u001b[0;31mIndexError\u001b[0m: index 60 is out of bounds for axis 1 with size 60"
     ]
    }
   ],
   "source": [
    "X = k_grid\n",
    "Y = k_grid[::-1]\n",
    "X, Y = np.meshgrid(X, Y)\n",
    "\n",
    "Z = np.zeros((N,N))\n",
    "for i in range(N):\n",
    "    for j in range(N):\n",
    "        Z[i,j] = V_new[i,j]\n",
    "#             V_new[i,j] = np.max(V_inter[:,j,:,i,:])\n",
    "fig = plt.figure(figsize=(20,10))\n",
    "ax = fig.gca(projection='3d')\n",
    "surf = ax.plot_surface(X, Y, Z, rstride=1, cstride=1, cmap='hot', linewidth=0, antialiased=False)\n",
    "ax.set_zlim(36.9, 37)\n",
    "\n",
    "fig.colorbar(surf, shrink=0.5, aspect=5)\n",
    "plt.show()"
   ]
  },
  {
   "cell_type": "code",
   "execution_count": 899,
   "metadata": {},
   "outputs": [
    {
     "name": "stdout",
     "output_type": "stream",
     "text": [
      "CPU times: user 111 µs, sys: 11 µs, total: 122 µs\n",
      "Wall time: 117 µs\n"
     ]
    }
   ],
   "source": [
    "\n",
    "\n",
    "%%time\n",
    "##############################\n",
    "##############################\n",
    "##############################\n",
    "########## PROBLEM4 ##########\n",
    "##############################\n",
    "##############################\n",
    "##############################\n",
    "\n",
    "\n",
    "\n",
    "\n",
    "# algorithm parameters\n",
    "\n",
    "N = 100\n",
    "lb = 1e-6\n",
    "error = 1\n",
    "tol = 1e-6\n",
    "max_iter = 1000\n",
    "n_iter = 0\n",
    "step = 1\n",
    "nplot = 100\n",
    "\n",
    "\n",
    "# model parameters\n",
    "\n",
    "alpha = 0.3\n",
    "beta = 0.96\n",
    "mu= 0.1\n",
    "p=0.5\n",
    "theta = 1\n",
    "delta = 0.05\n",
    "sigma = 2\n",
    "\n",
    "k_ss = 3.5\n",
    "l_ss = (1-alpha)/(2-alpha -beta*alpha) # arbitrarily chosen, true lst state in the notes\n",
    "\n",
    "k_min = 2\n",
    "l_min = 0.01\n",
    "k_max = k_ss +5.3\n",
    "l_max = l_ss**(1/2) + 0.2\n",
    "\n",
    "\n",
    "# placeholders\n",
    "\n",
    "k_grid = np.linspace(k_min,k_max, N)\n",
    "theta_grid = [1-mu,1+mu]\n",
    "\n",
    "\n"
   ]
  },
  {
   "cell_type": "code",
   "execution_count": 891,
   "metadata": {},
   "outputs": [],
   "source": [
    "V = np.zeros((N,2))"
   ]
  },
  {
   "cell_type": "code",
   "execution_count": 900,
   "metadata": {},
   "outputs": [
    {
     "data": {
      "application/vnd.jupyter.widget-view+json": {
       "model_id": "14ff18896646490e8078023b0289002c",
       "version_major": 2,
       "version_minor": 0
      },
      "text/plain": [
       "HBox(children=(IntProgress(value=0, max=1), HTML(value='')))"
      ]
     },
     "metadata": {},
     "output_type": "display_data"
    },
    {
     "ename": "KeyboardInterrupt",
     "evalue": "",
     "output_type": "error",
     "traceback": [
      "\u001b[0;31m---------------------------------------------------------------------------\u001b[0m",
      "\u001b[0;31mKeyboardInterrupt\u001b[0m                         Traceback (most recent call last)",
      "\u001b[0;32m<ipython-input-900-744df6182637>\u001b[0m in \u001b[0;36m<module>\u001b[0;34m\u001b[0m\n\u001b[1;32m     14\u001b[0m                 \u001b[0mu\u001b[0m \u001b[0;34m=\u001b[0m \u001b[0;34m(\u001b[0m\u001b[0;34m(\u001b[0m\u001b[0mtheta_grid\u001b[0m\u001b[0;34m[\u001b[0m\u001b[0mt\u001b[0m\u001b[0;34m]\u001b[0m\u001b[0;34m*\u001b[0m\u001b[0;34m(\u001b[0m \u001b[0mnp\u001b[0m\u001b[0;34m.\u001b[0m\u001b[0mmaximum\u001b[0m\u001b[0;34m(\u001b[0m\u001b[0;34m(\u001b[0m \u001b[0mk_grid\u001b[0m\u001b[0;34m[\u001b[0m\u001b[0mi\u001b[0m\u001b[0;34m]\u001b[0m\u001b[0;34m)\u001b[0m\u001b[0;34m**\u001b[0m\u001b[0;34m(\u001b[0m\u001b[0malpha\u001b[0m\u001b[0;34m)\u001b[0m \u001b[0;34m+\u001b[0m \u001b[0;34m(\u001b[0m\u001b[0;36m1\u001b[0m\u001b[0;34m-\u001b[0m\u001b[0mdelta\u001b[0m\u001b[0;34m)\u001b[0m\u001b[0;34m*\u001b[0m\u001b[0mk_grid\u001b[0m\u001b[0;34m[\u001b[0m\u001b[0mi\u001b[0m\u001b[0;34m]\u001b[0m \u001b[0;34m-\u001b[0m \u001b[0mk_grid\u001b[0m\u001b[0;34m[\u001b[0m\u001b[0mk\u001b[0m\u001b[0;34m]\u001b[0m\u001b[0;34m,\u001b[0m \u001b[0mlb\u001b[0m\u001b[0;34m)\u001b[0m \u001b[0;34m)\u001b[0m\u001b[0;34m)\u001b[0m\u001b[0;34m**\u001b[0m\u001b[0;34m(\u001b[0m\u001b[0;36m1\u001b[0m\u001b[0;34m-\u001b[0m\u001b[0msigma\u001b[0m\u001b[0;34m)\u001b[0m\u001b[0;34m)\u001b[0m\u001b[0;34m/\u001b[0m\u001b[0;34m(\u001b[0m\u001b[0;36m1\u001b[0m\u001b[0;34m-\u001b[0m\u001b[0msigma\u001b[0m\u001b[0;34m)\u001b[0m\u001b[0;34m+\u001b[0m \u001b[0mbeta\u001b[0m\u001b[0;34m*\u001b[0m\u001b[0mp\u001b[0m\u001b[0;34m*\u001b[0m\u001b[0mV\u001b[0m\u001b[0;34m[\u001b[0m\u001b[0mk\u001b[0m\u001b[0;34m,\u001b[0m\u001b[0;36m1\u001b[0m\u001b[0;34m]\u001b[0m \u001b[0;34m+\u001b[0m \u001b[0mbeta\u001b[0m\u001b[0;34m*\u001b[0m\u001b[0;34m(\u001b[0m\u001b[0;36m1\u001b[0m\u001b[0;34m-\u001b[0m\u001b[0mp\u001b[0m\u001b[0;34m)\u001b[0m\u001b[0;34m*\u001b[0m\u001b[0mV\u001b[0m\u001b[0;34m[\u001b[0m\u001b[0mk\u001b[0m\u001b[0;34m,\u001b[0m\u001b[0;36m0\u001b[0m\u001b[0;34m]\u001b[0m\u001b[0;34m\u001b[0m\u001b[0;34m\u001b[0m\u001b[0m\n\u001b[1;32m     15\u001b[0m \u001b[0;31m#                 print(u)\u001b[0m\u001b[0;34m\u001b[0m\u001b[0;34m\u001b[0m\u001b[0;34m\u001b[0m\u001b[0m\n\u001b[0;32m---> 16\u001b[0;31m                 \u001b[0;32mif\u001b[0m \u001b[0;34m(\u001b[0m\u001b[0mu\u001b[0m \u001b[0;34m>\u001b[0m \u001b[0mtmp\u001b[0m\u001b[0;34m)\u001b[0m\u001b[0;34m|\u001b[0m\u001b[0;34m(\u001b[0m\u001b[0;34m(\u001b[0m\u001b[0mu\u001b[0m\u001b[0;34m<\u001b[0m\u001b[0;36m0\u001b[0m\u001b[0;34m)\u001b[0m\u001b[0;34m&\u001b[0m\u001b[0;34m(\u001b[0m\u001b[0mtmp\u001b[0m\u001b[0;34m==\u001b[0m\u001b[0;36m0\u001b[0m\u001b[0;34m)\u001b[0m\u001b[0;34m)\u001b[0m\u001b[0;34m:\u001b[0m\u001b[0;34m\u001b[0m\u001b[0;34m\u001b[0m\u001b[0m\n\u001b[0m\u001b[1;32m     17\u001b[0m                     \u001b[0mtmp\u001b[0m \u001b[0;34m=\u001b[0m \u001b[0mu\u001b[0m\u001b[0;34m\u001b[0m\u001b[0;34m\u001b[0m\u001b[0m\n\u001b[1;32m     18\u001b[0m \u001b[0;34m\u001b[0m\u001b[0m\n",
      "\u001b[0;31mKeyboardInterrupt\u001b[0m: "
     ]
    }
   ],
   "source": [
    "pbar = tqdm(total = n_iter+1)\n",
    "while  (n_iter < max_iter):\n",
    "#     \n",
    "#     V_old = V.copy()\n",
    "#     print(V_old)\n",
    "    n_iter +=1\n",
    "    for i in range(N):\n",
    "#         print(i)\n",
    "        for t in range(2):\n",
    "#             print(t)\n",
    "            tmp = V[i][t]\n",
    "#             print(tmp)\n",
    "            for k in range(N):\n",
    "                u = ((theta_grid[t]*( np.maximum(( k_grid[i])**(alpha) + (1-delta)*k_grid[i] - k_grid[k], lb) ))**(1-sigma))/(1-sigma)+ beta*p*V[k,1] + beta*(1-p)*V[k,0]\n",
    "#                 print(u)\n",
    "                if (u > tmp)|((u<0)&(tmp==0)):\n",
    "                    tmp = u\n",
    "                    \n",
    "            V[i][t] = tmp*0.2 + 0.8*V[i][t]\n",
    "#     print(V)\n",
    "#     error = np.max(np.abs(V - V_old))\n",
    "\n",
    "    \n",
    "    pbar.update(1)\n",
    "pbar.close()\n",
    "\n",
    "\n",
    "\n",
    "\n"
   ]
  },
  {
   "cell_type": "code",
   "execution_count": 902,
   "metadata": {},
   "outputs": [],
   "source": [
    "data0 = []\n",
    "data1 = []\n",
    "\n",
    "for i in range(N):\n",
    "    for t in range(2):\n",
    "        k = k_grid[i]\n",
    "        theta = theta_grid[t]\n",
    "        u_tmp = -1000\n",
    "        k_opt = -1000\n",
    "        \n",
    "        for k in range(N):\n",
    "            u = ((theta_grid[t]*( np.maximum(( k_grid[i])**(alpha) + (1-delta)*k_grid[i] - k_grid[k], lb) ))**(1-sigma))/(1-sigma)+ beta*p*V[k,1] + beta*(1-p)*V[k,0]\n",
    "            if u > u_tmp:\n",
    "                u_tmp = u\n",
    "                k_opt = k\n",
    "        \n",
    "        if t ==0:\n",
    "            data0.append(k_opt)\n",
    "        else:\n",
    "            data1.append(k_opt)\n",
    "        \n",
    "\n",
    "\n"
   ]
  },
  {
   "cell_type": "code",
   "execution_count": 903,
   "metadata": {},
   "outputs": [],
   "source": [
    "g_L =  [k_grid[i] for i in data0] \n",
    "g_H =  [k_grid[i] for i in data1] "
   ]
  },
  {
   "cell_type": "code",
   "execution_count": 904,
   "metadata": {},
   "outputs": [
    {
     "data": {
      "image/png": "[encoded data removed]",
      "text/plain": [
       "<Figure size 432x288 with 1 Axes>"
      ]
     },
     "metadata": {
      "needs_background": "light"
     },
     "output_type": "display_data"
    }
   ],
   "source": [
    "plt.plot(k_grid, g_L)\n",
    "plt.show()"
   ]
  },
  {
   "cell_type": "code",
   "execution_count": 905,
   "metadata": {},
   "outputs": [
    {
     "data": {
      "image/png": "[encoded data removed]",
      "text/plain": [
       "<Figure size 432x288 with 1 Axes>"
      ]
     },
     "metadata": {
      "needs_background": "light"
     },
     "output_type": "display_data"
    }
   ],
   "source": [
    "plt.plot(k_grid, g_H)\n",
    "plt.show()"
   ]
  },
  {
   "cell_type": "code",
   "execution_count": null,
   "metadata": {},
   "outputs": [],
   "source": [
    "# slightly higher steady state capital in high state"
   ]
  }
 ],
 "metadata": {
  "kernelspec": {
   "display_name": "Python 3",
   "language": "python",
   "name": "python3"
  },
  "language_info": {
   "codemirror_mode": {
    "name": "ipython",
    "version": 3
   },
   "file_extension": ".py",
   "mimetype": "text/x-python",
   "name": "python",
   "nbconvert_exporter": "python",
   "pygments_lexer": "ipython3",
   "version": "3.8.5"
  }
 },
 "nbformat": 4,
 "nbformat_minor": 2
}
