{
 "cells": [
  {
   "cell_type": "code",
   "execution_count": 1,
   "metadata": {},
   "outputs": [
    {
     "data": {
      "application/vnd.jupyter.widget-view+json": {
       "model_id": "edf5efa2bfbe451c9f0d4a242821929a",
       "version_major": 2,
       "version_minor": 0
      },
      "text/plain": [
       "HBox(children=(IntProgress(value=1, bar_style='info', max=1), HTML(value='')))"
      ]
     },
     "metadata": {},
     "output_type": "display_data"
    },
    {
     "name": "stdout",
     "output_type": "stream",
     "text": [
      "\n"
     ]
    }
   ],
   "source": [
    "import numpy as np\n",
    "import matplotlib.pylab as plt\n",
    "from tqdm import tqdm\n",
    "plt.style.use('ggplot')\n",
    "import time\n",
    "from tqdm import tqdm_notebook as tqdm\n",
    "from tqdm._tqdm_notebook import tqdm_notebook\n",
    "tqdm_notebook().pandas(desc=\"progress\")\n",
    "from mpl_toolkits.mplot3d import Axes3D"
   ]
  },
  {
   "cell_type": "code",
   "execution_count": null,
   "metadata": {},
   "outputs": [],
   "source": [
    "##############################\n",
    "##############################\n",
    "##############################\n",
    "########## PROBLEM1 ##########\n",
    "##############################\n",
    "##############################\n",
    "##############################"
   ]
  },
  {
   "cell_type": "code",
   "execution_count": 32,
   "metadata": {},
   "outputs": [
    {
     "name": "stdout",
     "output_type": "stream",
     "text": [
      "CPU times: user 108 µs, sys: 12 µs, total: 120 µs\n",
      "Wall time: 113 µs\n"
     ]
    }
   ],
   "source": [
    "%%time\n",
    "# algorithm parameters\n",
    "\n",
    "A       = 1 # boundary from NPG\n",
    "alpha   = 0.36\n",
    "beta_B   = 0.92\n",
    "beta_A   = 0.96\n",
    "theta   = 1\n",
    "delta   = 0.05\n",
    "\n",
    "\n",
    "N = 500\n",
    "lb = 1e-6\n",
    "error = 1\n",
    "tol = 1e-6\n",
    "max_iter = 1000\n",
    "n_iter = 0\n",
    "step = 0.5\n",
    "nplot = 100\n",
    "\n",
    "\n",
    "# model parameters\n",
    "          \n",
    "\n",
    "k_ss = ((1/beta_A-1+delta)/(alpha*theta))**(1/(alpha-1))\n",
    "R    = 1/beta_A\n",
    "W    = (1-alpha)*theta*(k_ss**alpha)\n",
    "\n",
    "\n",
    "k_min = 0.01\n",
    "k_max = 2*k_ss\n",
    "\n",
    "# placeholders\n",
    "k_grid = np.linspace(k_min,k_max, N)\n",
    "\n",
    "\n",
    "\n"
   ]
  },
  {
   "cell_type": "code",
   "execution_count": 33,
   "metadata": {},
   "outputs": [
    {
     "data": {
      "text/plain": [
       "8.477489954703499"
      ]
     },
     "execution_count": 33,
     "metadata": {},
     "output_type": "execute_result"
    }
   ],
   "source": [
    "k_ss"
   ]
  },
  {
   "cell_type": "code",
   "execution_count": 34,
   "metadata": {},
   "outputs": [
    {
     "name": "stdout",
     "output_type": "stream",
     "text": [
      "CPU times: user 20 µs, sys: 6 µs, total: 26 µs\n",
      "Wall time: 29.1 µs\n"
     ]
    }
   ],
   "source": [
    "%%time\n",
    "# CPU times: user 29.1 µs\n",
    "##############################\n",
    "##############################\n",
    "##############################\n",
    "##### Initializing stuff #####\n",
    "##############################\n",
    "##############################\n",
    "##############################\n",
    " \n",
    "\n",
    "V_old = np.zeros((N,1)) # We start by guessing V(k) = 0 for all k\n",
    "\n",
    "V_new = np.zeros((N,1))\n",
    "\n",
    "V_inter = np.zeros((N,1))\n",
    "\n",
    "k_grid_new = np.zeros((N,1)) # This will be used to store the policy function"
   ]
  },
  {
   "cell_type": "code",
   "execution_count": 35,
   "metadata": {},
   "outputs": [
    {
     "data": {
      "application/vnd.jupyter.widget-view+json": {
       "model_id": "c28f8733b8f64182bd40b7028b4b227e",
       "version_major": 2,
       "version_minor": 0
      },
      "text/plain": [
       "HBox(children=(IntProgress(value=0, max=1), HTML(value='')))"
      ]
     },
     "metadata": {},
     "output_type": "display_data"
    }
   ],
   "source": [
    "# CPU times: user 05:29 m\n",
    "\n",
    "pbar = tqdm(total = n_iter+1)\n",
    "while (error > tol) & (n_iter < max_iter):\n",
    "    \n",
    "    n_iter += 1\n",
    "    \n",
    "    for i in range(N):\n",
    "        k = k_grid[i]\n",
    "        for j in range(N):\n",
    "            y= W + R*k\n",
    "            k_cand = np.maximum(A, k_grid[j])\n",
    "            \n",
    "            if (y<k_cand): # negative consumption\n",
    "                V_inter[j] = -10000000\n",
    "            else:\n",
    "                V_inter[j] = np.log(y-k_cand) + beta_B*V_old[j]\n",
    "                \n",
    "              \n",
    "        opt_ind = np.argmax(V_inter)\n",
    "        opt_v = np.max(V_inter)\n",
    "        \n",
    "        V_new[i] = opt_v\n",
    "        k_grid_new[i] = k_grid[opt_ind]\n",
    "        \n",
    "    \n",
    "    error = np.max(np.abs(V_new - V_old))\n",
    "    \n",
    "    V_old=step*V_old+(1-step)*V_new\n",
    "    \n",
    "    pbar.update(1)\n",
    "pbar.close()\n",
    "    "
   ]
  },
  {
   "cell_type": "code",
   "execution_count": null,
   "metadata": {},
   "outputs": [],
   "source": []
  },
  {
   "cell_type": "code",
   "execution_count": 36,
   "metadata": {},
   "outputs": [
    {
     "data": {
      "image/png": "[encoded data removed]",
      "text/plain": [
       "<Figure size 432x288 with 1 Axes>"
      ]
     },
     "metadata": {
      "needs_background": "light"
     },
     "output_type": "display_data"
    }
   ],
   "source": [
    "plt.plot(k_grid, k_grid, label='Group_A')\n",
    "plt.plot(k_grid, k_grid_new, label='Group_B')\n",
    "plt.title('Policy Function Iteration')\n",
    "plt.xlabel('K')\n",
    "plt.ylabel('g(K)')\n",
    "plt.legend()\n",
    "plt.show()"
   ]
  },
  {
   "cell_type": "code",
   "execution_count": null,
   "metadata": {},
   "outputs": [],
   "source": []
  },
  {
   "cell_type": "code",
   "execution_count": null,
   "metadata": {},
   "outputs": [],
   "source": []
  },
  {
   "cell_type": "code",
   "execution_count": null,
   "metadata": {},
   "outputs": [],
   "source": [
    "##############################\n",
    "##############################\n",
    "##############################\n",
    "########## PROBLEM4 ##########\n",
    "##############################\n",
    "##############################\n",
    "##############################"
   ]
  },
  {
   "cell_type": "code",
   "execution_count": 144,
   "metadata": {},
   "outputs": [
    {
     "name": "stdout",
     "output_type": "stream",
     "text": [
      "CPU times: user 109 µs, sys: 12 µs, total: 121 µs\n",
      "Wall time: 115 µs\n"
     ]
    }
   ],
   "source": [
    "%%time\n",
    "# algorithm parameters\n",
    "\n",
    "# model parameters\n",
    "\n",
    "N = 200\n",
    "A       = 1 # boundary from NPG\n",
    "alpha   = 0.36\n",
    "beta   = 0.95\n",
    "theta   = 1\n",
    "delta   = 0.05\n",
    "mu = 0.5\n",
    "    \n",
    "k_ss = ((1/beta-1+delta)/(alpha*theta))**(1/(alpha-1))\n",
    "R    = 1/beta\n",
    "W    = (1-alpha)*theta*(k_ss**alpha)\n",
    "\n",
    "\n",
    "k_min = 4\n",
    "k_max = 2*k_ss\n",
    "\n",
    "# placeholders\n",
    "k_grid = np.linspace(k_min,k_max, N)\n",
    "\n",
    "\n",
    "\n",
    "\n",
    "lb = 1e-6\n",
    "error1 = 1000\n",
    "error2 = 1000\n",
    "tol1 = 1e-6\n",
    "tol2 = (k_grid[1]-k_grid[0])\n",
    "max_iter = 1000\n",
    "n_iter = 0\n",
    "n_iter2 = 0\n",
    "step = 0.5\n",
    "nplot = 100\n",
    "\n",
    "\n",
    "\n",
    "\n"
   ]
  },
  {
   "cell_type": "code",
   "execution_count": 145,
   "metadata": {},
   "outputs": [
    {
     "data": {
      "text/plain": [
       "7.105523476465849"
      ]
     },
     "execution_count": 145,
     "metadata": {},
     "output_type": "execute_result"
    }
   ],
   "source": [
    "k_ss"
   ]
  },
  {
   "cell_type": "code",
   "execution_count": 146,
   "metadata": {},
   "outputs": [
    {
     "name": "stdout",
     "output_type": "stream",
     "text": [
      "CPU times: user 542 µs, sys: 861 µs, total: 1.4 ms\n",
      "Wall time: 868 µs\n"
     ]
    }
   ],
   "source": [
    "%%time\n",
    "# CPU times: user 2.31 s\n",
    "##############################\n",
    "##############################\n",
    "##############################\n",
    "##### Initializing stuff #####\n",
    "##############################\n",
    "##############################\n",
    "##############################\n",
    " \n",
    " \n",
    "G_old = np.linspace(0,N-1, N).astype(int) # given any capital levels economy has 1\n",
    "\n",
    "V_old = np.zeros((N,N)) # We start by guessing V(k) = 0 for all k\n",
    "\n",
    "V_new = np.zeros((N,N))\n",
    "\n",
    "V_inter = np.zeros((N,N))\n",
    "\n",
    "k_grid_new = np.zeros((N,1)) # This will be used to store the policy function\n",
    "\n",
    "Pol=np.ones((N,N))\n",
    "\n",
    "k_next =  np.broadcast_to(k_grid, (N, N) ) # axis 0 no variance, axis 1 future capital varies\n",
    "k_given =  np.transpose(np.broadcast_to(k_grid, (N, N) )) # axis 1 no variance, axis 0 given capital varies\n",
    "\n",
    "\n",
    "\n",
    "\n",
    "\n"
   ]
  },
  {
   "cell_type": "code",
   "execution_count": 147,
   "metadata": {},
   "outputs": [
    {
     "data": {
      "application/vnd.jupyter.widget-view+json": {
       "model_id": "8e96fca4f96b4e7f9ddb562457dc346c",
       "version_major": 2,
       "version_minor": 0
      },
      "text/plain": [
       "HBox(children=(IntProgress(value=0, max=1), HTML(value='')))"
      ]
     },
     "metadata": {},
     "output_type": "display_data"
    },
    {
     "name": "stderr",
     "output_type": "stream",
     "text": [
      "//anaconda3/lib/python3.7/site-packages/ipykernel_launcher.py:23: RuntimeWarning: divide by zero encountered in log\n"
     ]
    }
   ],
   "source": [
    "pbar = tqdm(total = n_iter+1)\n",
    "\n",
    "\n",
    "while  (error2>tol2) & (n_iter2 <max_iter): # loop on the update of G\n",
    "    \n",
    "    n_iter2+=1\n",
    "    \n",
    "    while (error1 > tol1) & (n_iter < max_iter):\n",
    "\n",
    "        n_iter += 1\n",
    "\n",
    "        for i in range(N):\n",
    "\n",
    "            # economy variables\n",
    "            K = k_grid[i] # capital \n",
    "            R=(alpha*theta*K**(alpha-1)+1-delta) # interest\n",
    "            w=((1-alpha)*theta*K**(alpha)) # wages\n",
    "\n",
    "            # choice\n",
    "\n",
    "            c =w+R*k_given-k_next \n",
    "            c =c*(c>0.01).astype(int)\n",
    "            u=np.log(c) # axis 0 fut cap axis 1 given capital\n",
    "\n",
    "\n",
    "            # value function given economy future\n",
    "            V_iter=np.tile(V_old[G_old[i],:], N).reshape(N,N) # axis 0 no variance axis 1 variance in initial capital\n",
    "\n",
    "            V_iter_opt, pol_iter_index = np.max(u+beta*V_iter, axis=1), np.argmax(u+beta*V_iter, axis=1)\n",
    "\n",
    "\n",
    "            V_new[i,:]=V_iter_opt # Updating V(K,:)\n",
    "            Pol[i,:]=pol_iter_index # %Recording g(K,:)\n",
    "\n",
    "\n",
    "        error1 = np.max(np.abs(V_new - V_old))\n",
    "\n",
    "        V_old = step*V_new+ (1-step)*V_old\n",
    "        \n",
    "    G_new = np.diag(Pol)      \n",
    "        \n",
    "    error2=np.max(np.abs(k_grid[G_old.astype(int)] - k_grid[G_new.astype(int)]))\n",
    "    \n",
    "    G_old = np.round(step*(G_old) +(1-step)*(G_new)).astype(int)\n",
    "        \n",
    "    pbar.update(1)\n",
    "pbar.close()"
   ]
  },
  {
   "cell_type": "code",
   "execution_count": 150,
   "metadata": {},
   "outputs": [
    {
     "name": "stderr",
     "output_type": "stream",
     "text": [
      "No handles with labels found to put in legend.\n"
     ]
    },
    {
     "data": {
      "image/png": "[encoded data removed]",
      "text/plain": [
       "<Figure size 432x288 with 1 Axes>"
      ]
     },
     "metadata": {
      "needs_background": "light"
     },
     "output_type": "display_data"
    }
   ],
   "source": [
    "plt.plot(k_grid, np.diag(V_new))\n",
    "# plt.title('Policy Function Iteration')\n",
    "plt.xlabel('K')\n",
    "plt.ylabel('V(K)')\n",
    "plt.legend()\n",
    "plt.show()"
   ]
  },
  {
   "cell_type": "code",
   "execution_count": 151,
   "metadata": {},
   "outputs": [
    {
     "data": {
      "image/png": "[encoded data removed]",
      "text/plain": [
       "<Figure size 432x288 with 1 Axes>"
      ]
     },
     "metadata": {
      "needs_background": "light"
     },
     "output_type": "display_data"
    }
   ],
   "source": [
    "plt.plot(V_new[0,:] , label='0')\n",
    "plt.plot(V_new[50,:], label='50')\n",
    "plt.plot(V_new[150,:], label='150')\n",
    "plt.title('Varying economy variables')\n",
    "plt.xlabel('K')\n",
    "plt.ylabel('V(K)')\n",
    "plt.legend()\n",
    "plt.show()"
   ]
  },
  {
   "cell_type": "code",
   "execution_count": 155,
   "metadata": {},
   "outputs": [
    {
     "data": {
      "image/png": "[encoded data removed]",
      "text/plain": [
       "<Figure size 432x288 with 1 Axes>"
      ]
     },
     "metadata": {
      "needs_background": "light"
     },
     "output_type": "display_data"
    }
   ],
   "source": [
    "plt.plot(k_grid[G_old.astype(int)], k_grid[G_new.astype(int)] )\n",
    "plt.title('Convergence')\n",
    "plt.xlabel('K')\n",
    "plt.ylabel('g(K)')\n",
    "plt.show()"
   ]
  },
  {
   "cell_type": "code",
   "execution_count": 169,
   "metadata": {},
   "outputs": [
    {
     "data": {
      "image/png": "[encoded data removed]",
      "text/plain": [
       "<Figure size 432x288 with 1 Axes>"
      ]
     },
     "metadata": {
      "needs_background": "light"
     },
     "output_type": "display_data"
    }
   ],
   "source": [
    "plt.plot(k_grid, k_grid[Pol[-1,:].astype(int)], label ='High group' )\n",
    "plt.plot(k_grid, k_grid[Pol[0,:].astype(int)], label = 'Low group' )\n",
    "plt.title('Dynamics')\n",
    "plt.xlabel('K')\n",
    "plt.ylabel('g(K)')\n",
    "plt.legend()\n",
    "plt.show()\n"
   ]
  },
  {
   "cell_type": "code",
   "execution_count": null,
   "metadata": {},
   "outputs": [],
   "source": []
  },
  {
   "cell_type": "code",
   "execution_count": null,
   "metadata": {},
   "outputs": [],
   "source": []
  }
 ],
 "metadata": {
  "kernelspec": {
   "display_name": "Python 3",
   "language": "python",
   "name": "python3"
  },
  "language_info": {
   "codemirror_mode": {
    "name": "ipython",
    "version": 3
   },
   "file_extension": ".py",
   "mimetype": "text/x-python",
   "name": "python",
   "nbconvert_exporter": "python",
   "pygments_lexer": "ipython3",
   "version": "3.8.5"
  }
 },
 "nbformat": 4,
 "nbformat_minor": 2
}
